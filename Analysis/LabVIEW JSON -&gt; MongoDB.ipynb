{
 "metadata": {
  "name": "LabVIEW JSON -&gt; MongoDB"
 }, 
 "nbformat": 2, 
 "worksheets": [
  {
   "cells": [
    {
     "cell_type": "code", 
     "collapsed": true, 
     "input": [
      "import cjson", 
      "from MongoWrapper import MongoWrapper", 
      "from DotDict import DotDict", 
      "import datetime", 
      "from os import chdir", 
      "chdir(\"/Volumes/Video Data/JSONified Old Experiments\")", 
      "", 
      "", 
      "filenames = ['10-24-2011-001-tmt-lowerleft_images.json',", 
      " '10-24-2011-002-tmt-lowerleft_images.json',", 
      " '10-24-2011-003-tmt-lowerleft_images.json',", 
      " '10-24-2011-004-tmt-lowerleft_images.json',", 
      " '10-24-2011-005-tmt-lowerleft_images.json',", 
      " '10-24-2011-006-tmt-lowerleft_images.json',", 
      " '10-24-2011-007-tmt-lowerleft_images.json',", 
      " '10-24-2011-008-tmt-lowerleft_images.json',", 
      " '10-24-2011-009-tmt-lowerleft_images.json',", 
      " '10-24-2011-010-tmt-lowerleft_images.json',", 
      " '10-24-2011-011-tmt-lowerleft_images.json',", 
      " '10-24-2011-013-tmt-lowerleft_images.json',", 
      " '10-24-2011-015-tmt-lowerleft_images.json',", 
      " '10-24-2011-016-tmt-lowerleft_images.json',", 
      " '10-24-2011-018-tmt-lowerleft_images.json',", 
      " '10-24-2011-019-tmt-lowerleft_images.json',", 
      " '10-24_001.json',", 
      " '10-24_002.json',", 
      " '10-24_005.json',", 
      " '10-24_006.json',", 
      " '10-24_007.json',", 
      " '10-24_008.json',", 
      " '10-24_009.json',", 
      " '10-24_010.json',", 
      " '10-24_011.json',", 
      " '10-24_012.json',", 
      " '10-24_013.json',", 
      " '10-24_014.json',", 
      " '10-24_015.json',", 
      " '10-24_016.json',", 
      " '10-24_017.json',", 
      " '10-24_018.json',", 
      " '10-24_019.json']"
     ], 
     "language": "python", 
     "outputs": [], 
     "prompt_number": 9
    }, 
    {
     "cell_type": "code", 
     "collapsed": false, 
     "input": [
      "db = MongoWrapper(\"test\", \"qbp_test\")"
     ], 
     "language": "python", 
     "outputs": [], 
     "prompt_number": 10
    }, 
    {
     "cell_type": "code", 
     "collapsed": true, 
     "input": [
      "def digestFile(db, pathToJsonFile):", 
      "    ", 
      "    # Grab the data from file and parse the JSON", 
      "    f = open(pathToJsonFile)", 
      "    ", 
      "    data = cjson.decode(f.read())", 
      "    f.close()", 
      "    ", 
      "    for (key,value) in zip(data['metadata'].keys(), data['metadata'].values()):", 
      "        # Un-escape newlines in the strings of the metadata field.", 
      "        if type(value) is str:", 
      "            data['metadata'][key] = value.replace(\"\\\\n\", \"\\n\")", 
      "        # Convert metadata date into a native datetime object (which MongoDB really likes for queries)", 
      "        if key == \"date\": ", 
      "            month, day, year = value.split('/')", 
      "            data['metadata'][key] = datetime.datetime(int(year), int(month), int(day))", 
      "", 
      "    ", 
      "    # Turn all lists into Numpy arrays", 
      "    for frame in data['frames']:", 
      "        # The old TMT frames need this replacement. That's my bad on the acquisition end. ", 
      "        frame['mouse_id'] = frame['mouse_id'].replace(\"-2011-\", \"_\")", 
      "        for (key,value) in zip(frame.keys(), frame.values()):", 
      "            if type(frame[key]) is list:", 
      "                frame[key] = np.asarray(value)", 
      "            if key == \"timestamp\":", 
      "                frame[key] = datetime.datetime.fromtimestamp(value)", 
      "        frame['session'] = data['metadata']", 
      "", 
      "    # Stick the frames into the database", 
      "    db.save(data['frames'])"
     ], 
     "language": "python", 
     "outputs": [], 
     "prompt_number": 11
    }, 
    {
     "cell_type": "code", 
     "collapsed": false, 
     "input": [
      "for filename in filenames:", 
      "    print \"Digesting %s\" % filename", 
      "    digestFile(db, filename)"
     ], 
     "language": "python", 
     "outputs": [
      {
       "output_type": "stream", 
       "stream": "stdout", 
       "text": [
        "Digesting 10-24-2011-001-tmt-lowerleft_images.json", 
        "Successfully inserted document(s)"
       ]
      }, 
      {
       "output_type": "stream", 
       "stream": "stdout", 
       "text": [
        "", 
        "Digesting 10-24-2011-002-tmt-lowerleft_images.json"
       ]
      }, 
      {
       "output_type": "stream", 
       "stream": "stdout", 
       "text": [
        "", 
        "Successfully inserted document(s)"
       ]
      }, 
      {
       "output_type": "stream", 
       "stream": "stdout", 
       "text": [
        "", 
        "Digesting 10-24-2011-003-tmt-lowerleft_images.json"
       ]
      }, 
      {
       "output_type": "stream", 
       "stream": "stdout", 
       "text": [
        "", 
        "Successfully inserted document(s)"
       ]
      }, 
      {
       "output_type": "stream", 
       "stream": "stdout", 
       "text": [
        "", 
        "Digesting 10-24-2011-004-tmt-lowerleft_images.json"
       ]
      }, 
      {
       "output_type": "stream", 
       "stream": "stdout", 
       "text": [
        "", 
        "Successfully inserted document(s)"
       ]
      }, 
      {
       "output_type": "stream", 
       "stream": "stdout", 
       "text": [
        "", 
        "Digesting 10-24-2011-005-tmt-lowerleft_images.json"
       ]
      }, 
      {
       "output_type": "stream", 
       "stream": "stdout", 
       "text": [
        "", 
        "Successfully inserted document(s)"
       ]
      }, 
      {
       "output_type": "stream", 
       "stream": "stdout", 
       "text": [
        "", 
        "Digesting 10-24-2011-006-tmt-lowerleft_images.json"
       ]
      }, 
      {
       "output_type": "stream", 
       "stream": "stdout", 
       "text": [
        "", 
        "Successfully inserted document(s)"
       ]
      }, 
      {
       "output_type": "stream", 
       "stream": "stdout", 
       "text": [
        "", 
        "Digesting 10-24-2011-007-tmt-lowerleft_images.json"
       ]
      }, 
      {
       "output_type": "stream", 
       "stream": "stdout", 
       "text": [
        "", 
        "Successfully inserted document(s)"
       ]
      }, 
      {
       "output_type": "stream", 
       "stream": "stdout", 
       "text": [
        "", 
        "Digesting 10-24-2011-008-tmt-lowerleft_images.json"
       ]
      }, 
      {
       "output_type": "stream", 
       "stream": "stdout", 
       "text": [
        "", 
        "Successfully inserted document(s)"
       ]
      }, 
      {
       "output_type": "stream", 
       "stream": "stdout", 
       "text": [
        "", 
        "Digesting 10-24-2011-009-tmt-lowerleft_images.json"
       ]
      }, 
      {
       "output_type": "stream", 
       "stream": "stdout", 
       "text": [
        "", 
        "Successfully inserted document(s)"
       ]
      }, 
      {
       "output_type": "stream", 
       "stream": "stdout", 
       "text": [
        "", 
        "Digesting 10-24-2011-010-tmt-lowerleft_images.json"
       ]
      }, 
      {
       "output_type": "stream", 
       "stream": "stdout", 
       "text": [
        "", 
        "Successfully inserted document(s)"
       ]
      }, 
      {
       "output_type": "stream", 
       "stream": "stdout", 
       "text": [
        "", 
        "Digesting 10-24-2011-011-tmt-lowerleft_images.json"
       ]
      }, 
      {
       "output_type": "stream", 
       "stream": "stdout", 
       "text": [
        "", 
        "Successfully inserted document(s)"
       ]
      }, 
      {
       "output_type": "stream", 
       "stream": "stdout", 
       "text": [
        "", 
        "Digesting 10-24-2011-013-tmt-lowerleft_images.json"
       ]
      }, 
      {
       "output_type": "stream", 
       "stream": "stdout", 
       "text": [
        "", 
        "Successfully inserted document(s)"
       ]
      }, 
      {
       "output_type": "stream", 
       "stream": "stdout", 
       "text": [
        "", 
        "Digesting 10-24-2011-015-tmt-lowerleft_images.json"
       ]
      }, 
      {
       "output_type": "stream", 
       "stream": "stdout", 
       "text": [
        "", 
        "Successfully inserted document(s)"
       ]
      }, 
      {
       "output_type": "stream", 
       "stream": "stdout", 
       "text": [
        "", 
        "Digesting 10-24-2011-016-tmt-lowerleft_images.json"
       ]
      }, 
      {
       "output_type": "stream", 
       "stream": "stdout", 
       "text": [
        "", 
        "Successfully inserted document(s)"
       ]
      }, 
      {
       "output_type": "stream", 
       "stream": "stdout", 
       "text": [
        "", 
        "Digesting 10-24-2011-018-tmt-lowerleft_images.json"
       ]
      }, 
      {
       "output_type": "stream", 
       "stream": "stdout", 
       "text": [
        "", 
        "Successfully inserted document(s)"
       ]
      }, 
      {
       "output_type": "stream", 
       "stream": "stdout", 
       "text": [
        "", 
        "Digesting 10-24-2011-019-tmt-lowerleft_images.json"
       ]
      }, 
      {
       "output_type": "stream", 
       "stream": "stdout", 
       "text": [
        "", 
        "Successfully inserted document(s)"
       ]
      }, 
      {
       "output_type": "stream", 
       "stream": "stdout", 
       "text": [
        "", 
        "Digesting 10-24_001.json"
       ]
      }, 
      {
       "output_type": "stream", 
       "stream": "stdout", 
       "text": [
        "", 
        "Successfully inserted document(s)"
       ]
      }, 
      {
       "output_type": "stream", 
       "stream": "stdout", 
       "text": [
        "", 
        "Digesting 10-24_002.json"
       ]
      }, 
      {
       "output_type": "stream", 
       "stream": "stdout", 
       "text": [
        "", 
        "Successfully inserted document(s)"
       ]
      }, 
      {
       "output_type": "stream", 
       "stream": "stdout", 
       "text": [
        "", 
        "Digesting 10-24_005.json"
       ]
      }, 
      {
       "output_type": "stream", 
       "stream": "stdout", 
       "text": [
        "", 
        "Successfully inserted document(s)"
       ]
      }, 
      {
       "output_type": "stream", 
       "stream": "stdout", 
       "text": [
        "", 
        "Digesting 10-24_006.json"
       ]
      }, 
      {
       "output_type": "stream", 
       "stream": "stdout", 
       "text": [
        "", 
        "Successfully inserted document(s)"
       ]
      }, 
      {
       "output_type": "stream", 
       "stream": "stdout", 
       "text": [
        "", 
        "Digesting 10-24_007.json"
       ]
      }, 
      {
       "output_type": "stream", 
       "stream": "stdout", 
       "text": [
        "", 
        "Successfully inserted document(s)"
       ]
      }, 
      {
       "output_type": "stream", 
       "stream": "stdout", 
       "text": [
        "", 
        "Digesting 10-24_008.json"
       ]
      }, 
      {
       "output_type": "stream", 
       "stream": "stdout", 
       "text": [
        "", 
        "Successfully inserted document(s)"
       ]
      }, 
      {
       "output_type": "stream", 
       "stream": "stdout", 
       "text": [
        "", 
        "Digesting 10-24_009.json"
       ]
      }, 
      {
       "output_type": "stream", 
       "stream": "stdout", 
       "text": [
        "", 
        "Successfully inserted document(s)"
       ]
      }, 
      {
       "output_type": "stream", 
       "stream": "stdout", 
       "text": [
        "", 
        "Digesting 10-24_010.json"
       ]
      }, 
      {
       "output_type": "stream", 
       "stream": "stdout", 
       "text": [
        "", 
        "Successfully inserted document(s)"
       ]
      }, 
      {
       "output_type": "stream", 
       "stream": "stdout", 
       "text": [
        "", 
        "Digesting 10-24_011.json"
       ]
      }, 
      {
       "output_type": "stream", 
       "stream": "stdout", 
       "text": [
        "", 
        "Successfully inserted document(s)"
       ]
      }, 
      {
       "output_type": "stream", 
       "stream": "stdout", 
       "text": [
        "", 
        "Digesting 10-24_012.json"
       ]
      }, 
      {
       "output_type": "stream", 
       "stream": "stdout", 
       "text": [
        "", 
        "Successfully inserted document(s)"
       ]
      }, 
      {
       "output_type": "stream", 
       "stream": "stdout", 
       "text": [
        "", 
        "Digesting 10-24_013.json"
       ]
      }, 
      {
       "output_type": "stream", 
       "stream": "stdout", 
       "text": [
        "", 
        "Successfully inserted document(s)"
       ]
      }, 
      {
       "output_type": "stream", 
       "stream": "stdout", 
       "text": [
        "", 
        "Digesting 10-24_014.json"
       ]
      }, 
      {
       "output_type": "stream", 
       "stream": "stdout", 
       "text": [
        "", 
        "Successfully inserted document(s)"
       ]
      }, 
      {
       "output_type": "stream", 
       "stream": "stdout", 
       "text": [
        "", 
        "Digesting 10-24_015.json"
       ]
      }, 
      {
       "output_type": "stream", 
       "stream": "stdout", 
       "text": [
        "", 
        "Successfully inserted document(s)"
       ]
      }, 
      {
       "output_type": "stream", 
       "stream": "stdout", 
       "text": [
        "", 
        "Digesting 10-24_016.json"
       ]
      }, 
      {
       "output_type": "stream", 
       "stream": "stdout", 
       "text": [
        "", 
        "Successfully inserted document(s)"
       ]
      }, 
      {
       "output_type": "stream", 
       "stream": "stdout", 
       "text": [
        "", 
        "Digesting 10-24_017.json"
       ]
      }, 
      {
       "output_type": "stream", 
       "stream": "stdout", 
       "text": [
        "", 
        "Successfully inserted document(s)"
       ]
      }, 
      {
       "output_type": "stream", 
       "stream": "stdout", 
       "text": [
        "", 
        "Digesting 10-24_018.json"
       ]
      }, 
      {
       "output_type": "stream", 
       "stream": "stdout", 
       "text": [
        "", 
        "Successfully inserted document(s)"
       ]
      }, 
      {
       "output_type": "stream", 
       "stream": "stdout", 
       "text": [
        "", 
        "Digesting 10-24_019.json"
       ]
      }, 
      {
       "output_type": "stream", 
       "stream": "stdout", 
       "text": [
        "", 
        "Successfully inserted document(s)"
       ]
      }, 
      {
       "output_type": "stream", 
       "stream": "stdout", 
       "text": [
        ""
       ]
      }
     ], 
     "prompt_number": 12
    }
   ]
  }
 ]
}