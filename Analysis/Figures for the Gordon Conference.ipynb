{
 "metadata": {
  "name": "Figures for the Gordon Conference"
 }, 
 "nbformat": 2, 
 "worksheets": [
  {
   "cells": [
    {
     "cell_type": "markdown", 
     "source": [
      "### NOTES: ", 
      "", 
      "Right now, I'm going to calculate all PC clusters off of 10-24_007, and apply it to all other mice."
     ]
    }, 
    {
     "cell_type": "markdown", 
     "source": [
      "## Figures for the Gordon Conference  ", 
      "  ", 
      "#### Overview:  ", 
      "  ", 
      "_Raw data slide_  ", 
      "  - heatmap tick, one mouse, blank & TMT  ", 
      "", 
      "_PCA_  ", 
      "- heatmap tick, one mouse, blank & TMT  ", 
      "", 
      "_Hierarchical clustering_", 
      "- Reordering heatmap tick  ", 
      "- Data is merged  ", 
      "- Scatter-space, colors indicate co-membership  ", 
      "- Dendrogram  ", 
      "", 
      "_Two main questions_  ", 
      "- Are they the same for any given animal?   ", 
      "- Are they the same for the group?  ", 
      "", 
      "_Spines overlayed_  ", 
      "- PC1 and PC2 scatterplot for however many clusters come out of the hierarchical clustering (5)  ", 
      "", 
      "_Spine Contour Membership_  ", 
      "- Spine overlays for each cluster  ", 
      "- Three versions:  ", 
      "\t1) If 15 total states, view of all 15 states  ", 
      "\t2) If 15 total states, with 5 true states, view of 5 states  ", 
      "\t3) If 15, with 5 true states, annotate whatever states I can annotate.  ", 
      "- Spine contour membership indicated by line widths,   ", 
      "- blank and TMT, for one mouse.  ", 
      "- Do aggregate for all mice.  ", 
      "", 
      "_Occupancy Plots_  ", 
      "- Occupancy plot (mountains) for blank animal and TMT animal  ", 
      "- Do aggregate for all mice  ", 
      "", 
      "_Dynamics Movie_  ", 
      "- Highlight when rearing dynamics occurs, save as vector on top of the plot  ", 
      "- Order mice top to bottom for when first rearing occurs  "
     ]
    }, 
    {
     "cell_type": "code", 
     "collapsed": false, 
     "input": [
      "# Import some stuff", 
      "import sklearn", 
      "from sklearn import hmm", 
      "import qbp", 
      "from MongoWrapper import MongoWrapper", 
      "db = MongoWrapper(\"test\", \"qbp_test\")"
     ], 
     "language": "python", 
     "outputs": [
      {
       "output_type": "stream", 
       "stream": "stderr", 
       "text": [
        "/opt/local/Library/Frameworks/Python.framework/Versions/2.6/lib/python2.6/site-packages/scikit_learn-0.11_git-py2.6-macosx-10.7-x86_64.egg/sklearn/hmm.py:25: UserWarning: sklearn.hmm is orphaned, undocumented and has known numerical stability issues. If nobody volunteers to write documentation and make it more stable, this module will be removed in version 0.11.", 
        "  warnings.warn(&apos;sklearn.hmm is orphaned, undocumented and has known numerical&apos;"
       ]
      }
     ], 
     "prompt_number": 1
    }, 
    {
     "cell_type": "code", 
     "collapsed": true, 
     "input": [
      "# A little helper to pull out all the data all the time from a list of dictionaries that contains np arrays as keys", 
      "def nparrays_from_frames(frames):", 
      "    arrays = []", 
      "    for key in frames[0].keys():", 
      "        if key[0] == '_':", 
      "            continue", 
      "        if 'distance' in key:", 
      "            data = np.asarray( [f[key] for f in frames] )", 
      "            data /= data.max()", 
      "            arrays.append(data)", 
      "        if 'image' in key:", 
      "            continue", 
      "        if 'angle' in key:", 
      "            continue", 
      "        if '_x' in key or '_y' in key:", 
      "            continue", 
      "        else:", 
      "            arrays.append( np.asarray( [f[key] for f in frames] )  )", 
      "    ", 
      "        if arrays[-1].ndim == 1:", 
      "            arrays[-1] = np.atleast_2d(arrays[-1]).T", 
      "        ", 
      "    return np.hstack(arrays)"
     ], 
     "language": "python", 
     "outputs": [], 
     "prompt_number": 2
    }, 
    {
     "cell_type": "markdown", 
     "source": [
      "#### First things first. Get a single mouse of data."
     ]
    }, 
    {
     "cell_type": "code", 
     "collapsed": true, 
     "input": [
      "exemplar_mouse_id = \"10-24_007\"", 
      "exemplar_frames_blank = db.load({\"type\":\"frame\", \"session.odor\":\"blank\", \"mouse_id\":exemplar_mouse_id})", 
      "exemplar_frames_tmt = db.load({\"type\":\"frame\", \"session.odor\":\"tmt\", \"mouse_id\":exemplar_mouse_id})"
     ], 
     "language": "python", 
     "outputs": [], 
     "prompt_number": "*"
    }, 
    {
     "cell_type": "markdown", 
     "source": [
      "#### Now, get all of the data. "
     ]
    }, 
    {
     "cell_type": "code", 
     "collapsed": true, 
     "input": [
      "available_blank_mice = np.unique( [f['mouse_id'] for f in db.load({\"type\":\"frame\",\"session.odor\":\"blank\"}, {\"mouse_id\":1})] )", 
      "available_tmt_mice = np.unique( [f['mouse_id'] for f in db.load({\"type\":\"frame\",\"session.odor\":\"tmt\"}, {\"mouse_id\":1})] )"
     ], 
     "language": "python", 
     "outputs": [], 
     "prompt_number": 3
    }, 
    {
     "cell_type": "code", 
     "collapsed": true, 
     "input": [
      "import os", 
      "os.chdir(\"/Volumes/miniseagate/\")"
     ], 
     "language": "python", 
     "outputs": [], 
     "prompt_number": 5
    }, 
    {
     "cell_type": "code", 
     "collapsed": false, 
     "input": [
      "all_frames_blank = []", 
      "for blank_mouse_id in available_blank_mice:", 
      "    print \"Loading mouse %s for blank odor\" % blank_mouse_id", 
      "    all_frames_blank.append( db.load({\"type\":\"frame\", \"session.odor\" : \"blank\", \"mouse_id\":blank_mouse_id}) )", 
      "np.save(\"blank_frames\", all_frames_blank)"
     ], 
     "language": "python", 
     "outputs": [
      {
       "output_type": "stream", 
       "stream": "stdout", 
       "text": [
        "Loading mouse 10-24_001 for blank odor", 
        "Loading mouse 10-24_002 for blank odor"
       ]
      }, 
      {
       "output_type": "stream", 
       "stream": "stdout", 
       "text": [
        "", 
        "Loading mouse 10-24_005 for blank odor"
       ]
      }, 
      {
       "output_type": "stream", 
       "stream": "stdout", 
       "text": [
        "", 
        "Loading mouse 10-24_006 for blank odor"
       ]
      }, 
      {
       "output_type": "stream", 
       "stream": "stdout", 
       "text": [
        "", 
        "Loading mouse 10-24_007 for blank odor"
       ]
      }, 
      {
       "output_type": "stream", 
       "stream": "stdout", 
       "text": [
        "", 
        "Loading mouse 10-24_008 for blank odor"
       ]
      }, 
      {
       "output_type": "stream", 
       "stream": "stdout", 
       "text": [
        "", 
        "Loading mouse 10-24_009 for blank odor"
       ]
      }, 
      {
       "output_type": "stream", 
       "stream": "stdout", 
       "text": [
        "", 
        "Loading mouse 10-24_010 for blank odor"
       ]
      }, 
      {
       "output_type": "stream", 
       "stream": "stdout", 
       "text": [
        "", 
        "Loading mouse 10-24_011 for blank odor"
       ]
      }, 
      {
       "output_type": "stream", 
       "stream": "stdout", 
       "text": [
        "", 
        "Loading mouse 10-24_012 for blank odor"
       ]
      }, 
      {
       "output_type": "stream", 
       "stream": "stdout", 
       "text": [
        "", 
        "Loading mouse 10-24_013 for blank odor"
       ]
      }, 
      {
       "output_type": "stream", 
       "stream": "stdout", 
       "text": [
        "", 
        "Loading mouse 10-24_014 for blank odor"
       ]
      }, 
      {
       "output_type": "stream", 
       "stream": "stdout", 
       "text": [
        "", 
        "Loading mouse 10-24_015 for blank odor"
       ]
      }, 
      {
       "output_type": "stream", 
       "stream": "stdout", 
       "text": [
        "", 
        "Loading mouse 10-24_016 for blank odor"
       ]
      }, 
      {
       "output_type": "stream", 
       "stream": "stdout", 
       "text": [
        "", 
        "Loading mouse 10-24_017 for blank odor"
       ]
      }, 
      {
       "output_type": "stream", 
       "stream": "stdout", 
       "text": [
        "", 
        "Loading mouse 10-24_018 for blank odor"
       ]
      }, 
      {
       "output_type": "stream", 
       "stream": "stdout", 
       "text": [
        "", 
        "Loading mouse 10-24_019 for blank odor"
       ]
      }, 
      {
       "output_type": "stream", 
       "stream": "stdout", 
       "text": []
      }
     ], 
     "prompt_number": 6
    }, 
    {
     "cell_type": "code", 
     "collapsed": false, 
     "input": [
      "all_frames_tmt = []", 
      "for tmt_mouse_id in available_tmt_mice:", 
      "    print \"Loading mouse %s for TMT odor\" % tmt_mouse_id", 
      "    all_frames_tmt.append( db.load({\"type\":\"frame\", \"session.odor\" : \"tmt\", \"mouse_id\" : tmt_mouse_id}) )", 
      "np.save(\"tmt_frames\", all_frames_tmt)"
     ], 
     "language": "python", 
     "outputs": [
      {
       "output_type": "stream", 
       "stream": "stdout", 
       "text": [
        "Loading mouse 10-24_001 for TMT odor", 
        "Loading mouse 10-24_002 for TMT odor"
       ]
      }, 
      {
       "output_type": "stream", 
       "stream": "stdout", 
       "text": [
        "", 
        "Loading mouse 10-24_003 for TMT odor"
       ]
      }, 
      {
       "output_type": "stream", 
       "stream": "stdout", 
       "text": [
        "", 
        "Loading mouse 10-24_004 for TMT odor"
       ]
      }, 
      {
       "output_type": "stream", 
       "stream": "stdout", 
       "text": [
        "", 
        "Loading mouse 10-24_005 for TMT odor"
       ]
      }, 
      {
       "output_type": "stream", 
       "stream": "stdout", 
       "text": [
        "", 
        "Loading mouse 10-24_006 for TMT odor"
       ]
      }, 
      {
       "output_type": "stream", 
       "stream": "stdout", 
       "text": [
        "", 
        "Loading mouse 10-24_007 for TMT odor"
       ]
      }, 
      {
       "output_type": "stream", 
       "stream": "stdout", 
       "text": [
        "", 
        "Loading mouse 10-24_008 for TMT odor"
       ]
      }, 
      {
       "output_type": "stream", 
       "stream": "stdout", 
       "text": [
        "", 
        "Loading mouse 10-24_009 for TMT odor"
       ]
      }, 
      {
       "output_type": "stream", 
       "stream": "stdout", 
       "text": [
        "", 
        "Loading mouse 10-24_010 for TMT odor"
       ]
      }, 
      {
       "output_type": "stream", 
       "stream": "stdout", 
       "text": [
        "", 
        "Loading mouse 10-24_011 for TMT odor"
       ]
      }, 
      {
       "output_type": "stream", 
       "stream": "stdout", 
       "text": [
        "", 
        "Loading mouse 10-24_013 for TMT odor"
       ]
      }, 
      {
       "output_type": "stream", 
       "stream": "stdout", 
       "text": [
        "", 
        "Loading mouse 10-24_015 for TMT odor"
       ]
      }, 
      {
       "output_type": "stream", 
       "stream": "stdout", 
       "text": [
        "", 
        "Loading mouse 10-24_016 for TMT odor"
       ]
      }, 
      {
       "output_type": "stream", 
       "stream": "stdout", 
       "text": [
        "", 
        "Loading mouse 10-24_018 for TMT odor"
       ]
      }, 
      {
       "output_type": "stream", 
       "stream": "stdout", 
       "text": [
        "", 
        "Loading mouse 10-24_019 for TMT odor"
       ]
      }, 
      {
       "output_type": "stream", 
       "stream": "stdout", 
       "text": []
      }
     ], 
     "prompt_number": 7
    }, 
    {
     "cell_type": "code", 
     "collapsed": true, 
     "input": [
      "# Put it into a usable form.", 
      "all_blank_data = []", 
      "all_tmt_data = []", 
      "all_blank_spines = []", 
      "all_tmt_spines = []", 
      "", 
      "for blank_session in all_frames_blank:", 
      "    all_blank_data.append( nparrays_from_frames(blank_session) )", 
      "    all_blank_spines.append( [f['spine_contour'] for f in blank_session] )", 
      "for tmt_session in all_frames_tmt:", 
      "    all_tmt_data.append( nparrays_from_frames(tmt_session) )", 
      "    all_tmt_spines.append( [f['spine_contour'] for f in tmt_session] )"
     ], 
     "language": "python", 
     "outputs": [], 
     "prompt_number": "&nbsp;"
    }, 
    {
     "cell_type": "markdown", 
     "source": [
      "#### Now, calculate the principal components"
     ]
    }, 
    {
     "cell_type": "code", 
     "collapsed": true, 
     "input": [
      "# FOR NOW", 
      "# We're going to calculate it off of just one mouse."
     ], 
     "language": "python", 
     "outputs": [], 
     "prompt_number": "&nbsp;"
    }, 
    {
     "cell_type": "markdown", 
     "source": [
      "#### Now, calculate the "
     ]
    }, 
    {
     "cell_type": "markdown", 
     "source": [
      "#### "
     ]
    }, 
    {
     "cell_type": "markdown", 
     "source": [
      "#### Next things next. Get the rest of the data. This is a lot, and will take awhile to do."
     ]
    }, 
    {
     "cell_type": "code", 
     "collapsed": true, 
     "input": [], 
     "language": "python", 
     "outputs": [], 
     "prompt_number": "&nbsp;"
    }, 
    {
     "cell_type": "code", 
     "collapsed": true, 
     "input": [
      "def heatmap_tick_plot(activity_array):", 
      "    \"\"\"", 
      "    Makes a heatmap tick plot. Basically, it's just an imshow on an activity_array.", 
      "    \"\"\"", 
      "    pass", 
      "", 
      "def clustered_heatmap_tick_plot(clustered_activity_arrays, proportions_in_each_cluster):", 
      "    \"\"\"", 
      "    Now we've clustered the activity_array, so that certain frames have a state identity.", 
      "    We expect that the frames from similar states have been collected and concatenated into separate numpy arrays,", 
      "    and each array is saved as an element of a list.", 
      "    Also, if there's more than one treatment, we expect a list of lists, where each entry is the proportion of frames", 
      "    in a particular treatment found in that cluster.", 
      "    \"\"\"", 
      "    pass", 
      "    ", 
      "    "
     ], 
     "language": "python", 
     "outputs": [], 
     "prompt_number": "&nbsp;"
    }
   ]
  }
 ]
}