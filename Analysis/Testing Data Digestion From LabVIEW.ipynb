{
 "metadata": {
  "name": "Testing Data Digestion From LabVIEW"
 }, 
 "nbformat": 2, 
 "worksheets": [
  {
   "cells": [
    {
     "cell_type": "markdown", 
     "source": [
      "## Digesting Data from the Kinect LabVIEW code.", 
      "", 
      "Currently (as of 6/9/2012), everything coming out of LabVIEW is going into a single big JSON file,  ", 
      "with one field \"frames\", that has an array of dictionaries containing frame data, and then another field,", 
      "\"metadata\", which contains information about the experiment that's pretty useful and stuff.  ", 
      "", 
      "What we need to do is to get each one of these dictionaries (each frame, and then the metadata dictionary)  ", 
      "into a MongoDB  collection. ", 
      "", 
      "## What I've learned:", 
      "", 
      "Just take all lists, make then NumPy arrays, and then save them into the database that way."
     ]
    }, 
    {
     "cell_type": "code", 
     "collapsed": true, 
     "input": [
      "filename = \"Test 2.json\""
     ], 
     "language": "python", 
     "outputs": [], 
     "prompt_number": 1
    }, 
    {
     "cell_type": "code", 
     "collapsed": true, 
     "input": [
      "import cjson", 
      "from DotDict import DotDict", 
      "from MongoWrapper import MongoWrapper", 
      "f = open(filename)", 
      "data = cjson.decode(f.read())", 
      "f.close()"
     ], 
     "language": "python", 
     "outputs": [], 
     "prompt_number": 16
    }, 
    {
     "cell_type": "markdown", 
     "source": [
      "First, change all of the lists of lists and the lists into NumPy arrays."
     ]
    }, 
    {
     "cell_type": "code", 
     "collapsed": true, 
     "input": [
      "frames = data['frames']", 
      "for frame in frames:", 
      "    for (key,value) in zip(frame.keys(), frame.values()):", 
      "        if type(frame[key]) is list:", 
      "            frame[key] = np.asarray(value)", 
      "    frame = DotDict(frame)"
     ], 
     "language": "python", 
     "outputs": [], 
     "prompt_number": 17
    }, 
    {
     "cell_type": "markdown", 
     "source": [
      "Then, grab a reference to the database"
     ]
    }, 
    {
     "cell_type": "code", 
     "collapsed": true, 
     "input": [
      "db = MongoWrapper(\"test\", \"test_collection\")"
     ], 
     "language": "python", 
     "outputs": [], 
     "prompt_number": 18
    }, 
    {
     "cell_type": "markdown", 
     "source": [
      "Now, let's go ahead and test how long it takes to do the insert."
     ]
    }, 
    {
     "cell_type": "code", 
     "collapsed": false, 
     "input": [
      "from time import time", 
      "start = time()", 
      "db.save(frames)", 
      "end = time()", 
      "print \"Took {0} seconds to insert {1} documents with NumPy arrays\".format(end - start, len(frames))"
     ], 
     "language": "python", 
     "outputs": [
      {
       "output_type": "stream", 
       "stream": "stdout", 
       "text": [
        "Successfully inserted document(s)", 
        "Took 13.1621711254 seconds to insert 1560 documents with NumPy arrays"
       ]
      }
     ], 
     "prompt_number": 19
    }, 
    {
     "cell_type": "markdown", 
     "source": [
      "Just for shits and giggles, let's see how fast it goes if we don't do that NumPy bullshit."
     ]
    }, 
    {
     "cell_type": "code", 
     "collapsed": false, 
     "input": [
      "f = open(filename)", 
      "data = cjson.decode(f.read())", 
      "f.close()", 
      "", 
      "db.db.drop_collection(\"test_collection\")", 
      "db = MongoWrapper(\"test\", \"test_collection\")", 
      "", 
      "start2 = time()", 
      "db.save(data['frames'])", 
      "end2 = time()", 
      "", 
      "print \"Took {0} seconds to insert {1} documents without NumPy arrays\".format(end - start, len(frames))"
     ], 
     "language": "python", 
     "outputs": [
      {
       "output_type": "stream", 
       "stream": "stdout", 
       "text": [
        "Successfully inserted document(s)", 
        "Took 13.2798290253 seconds to insert 1560 documents without NumPy arrays"
       ]
      }
     ], 
     "prompt_number": 15
    }
   ]
  }
 ]
}