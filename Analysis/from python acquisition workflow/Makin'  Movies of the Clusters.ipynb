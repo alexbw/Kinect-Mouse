{
 "metadata": {
  "name": "Makin'  Movies of the Clusters"
 }, 
 "nbformat": 2, 
 "worksheets": [
  {
   "cells": [
    {
     "cell_type": "code", 
     "collapsed": false, 
     "input": [
      "reload(blobgenerator)"
     ], 
     "language": "python", 
     "outputs": [
      {
       "output_type": "pyout", 
       "prompt_number": 57, 
       "text": [
        "&lt;module &apos;blobgenerator&apos; from &apos;blobgenerator.py&apos;&gt;"
       ]
      }
     ], 
     "prompt_number": 57
    }, 
    {
     "cell_type": "code", 
     "collapsed": true, 
     "input": [
      "from blobgenerator import pngGenerator", 
      "import os", 
      "import SimpleCV as scv", 
      "os.chdir(\"/Users/Alex/Dropbox/Science/Datta lab/Kinect Mouse Tracking/Two-mouse experiments\")", 
      "", 
      "original_file_dir = \"/Users/Alex/Desktop/Science/10-24/10-24-2011-001-blank-all_images/\"", 
      "file1 = \"processed_mice/10-24 001 blank shifted aligned.npz\"", 
      "", 
      "f1 = np.load(file1)", 
      "fits, ellipses, imgs, diffimgs, frame_ids, labels = f1['fits'], f1['ellipses'], f1['imgs'], f1['diffimgs'], f1['frame_ids'], f1['labels']", 
      "", 
      "from time import sleep", 
      "full_imgs = pngGenerator(original_file_dir)", 
      "for i, full_img in enumerate(full_imgs):", 
      "    if i not in frame_ids:", 
      "        continue", 
      "    ", 
      "    x,y = ellipses[i][0][0], ellipses[i][0][1]", 
      "    full_img.drawText(text=str(labels[i]), x=x, y=y, color=(255,0,0), fontsize=24)", 
      "    full_img.show()", 
      "    sleep(0.1)"
     ], 
     "language": "python", 
     "outputs": [
      {
       "ename": "KeyboardInterrupt", 
       "evalue": "", 
       "output_type": "pyerr", 
       "traceback": [
        "<span class=\"ansired\">---------------------------------------------------------------------------</span>\n<span class=\"ansired\">KeyboardInterrupt</span>                         Traceback (most recent call last)", 
        "<span class=\"ansigreen\">/Users/Alex/Dropbox/Science/Datta lab/Kinect Mouse Tracking/Two-mouse experiments/&lt;ipython-input-60-fb01c904c9eb&gt;</span> in <span class=\"ansicyan\">&lt;module&gt;</span><span class=\"ansiblue\">()</span>\n<span class=\"ansigreen\">     19</span>     full_img<span class=\"ansiblue\">.</span>drawText<span class=\"ansiblue\">(</span>text<span class=\"ansiblue\">=</span>str<span class=\"ansiblue\">(</span>labels<span class=\"ansiblue\">[</span>i<span class=\"ansiblue\">]</span><span class=\"ansiblue\">)</span><span class=\"ansiblue\">,</span> x<span class=\"ansiblue\">=</span>x<span class=\"ansiblue\">,</span> y<span class=\"ansiblue\">=</span>y<span class=\"ansiblue\">,</span> color<span class=\"ansiblue\">=</span><span class=\"ansiblue\">(</span><span class=\"ansicyan\">255</span><span class=\"ansiblue\">,</span><span class=\"ansicyan\">0</span><span class=\"ansiblue\">,</span><span class=\"ansicyan\">0</span><span class=\"ansiblue\">)</span><span class=\"ansiblue\">,</span> fontsize<span class=\"ansiblue\">=</span><span class=\"ansicyan\">24</span><span class=\"ansiblue\">)</span><span class=\"ansiblue\"></span>\n<span class=\"ansigreen\">     20</span>     full_img<span class=\"ansiblue\">.</span>show<span class=\"ansiblue\">(</span><span class=\"ansiblue\">)</span><span class=\"ansiblue\"></span>\n<span class=\"ansigreen\">---&gt; 21</span><span class=\"ansired\">     </span>sleep<span class=\"ansiblue\">(</span><span class=\"ansicyan\">0.1</span><span class=\"ansiblue\">)</span><span class=\"ansiblue\"></span>\n", 
        "<span class=\"ansired\">KeyboardInterrupt</span>: "
       ]
      }, 
      {
       "output_type": "stream", 
       "stream": "stdout", 
       "text": [
        "4333"
       ]
      }
     ], 
     "prompt_number": 60
    }
   ]
  }
 ]
}