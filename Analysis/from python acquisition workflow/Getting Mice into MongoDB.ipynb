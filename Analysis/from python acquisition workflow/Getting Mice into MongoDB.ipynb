{
 "metadata": {
  "name": "Getting Mice into MongoDB"
 }, 
 "nbformat": 2, 
 "worksheets": [
  {
   "cells": [
    {
     "cell_type": "markdown", 
     "source": [
      "# Finally moving data into MongoDB"
     ]
    }, 
    {
     "cell_type": "code", 
     "collapsed": true, 
     "input": [
      "import os", 
      "os.chdir(\"/Users/Alex/Dropbox/Science/Datta lab/Kinect Mouse Tracking/Two-mouse experiments\")", 
      "fileName = \"processed_mice/10-24 001 blank shifted aligned.npz\"", 
      "f = np.load(fileName)", 
      "fits, ellipses, imgs, diffimgs, frame_ids = f['fits'], f['ellipses'], f['imgs'], f['diffimgs'], f['frame_ids']", 
      "filename = \"10-24-2011-001-blank-all\"", 
      "imgdir = \"/Users/Alex/Desktop/Science/10-24/10-24-2011-001-blank-all_images\""
     ], 
     "language": "python", 
     "outputs": [], 
     "prompt_number": 1
    }, 
    {
     "cell_type": "code", 
     "collapsed": true, 
     "input": [
      "import pymongo", 
      "from imaging_analysis.core.io import MongoWrapper as mdb", 
      "from imaging_analysis.core import DotDict", 
      "reload(DotDict)", 
      "dd = DotDict.DotDict", 
      "", 
      "db = mdb('test', 'test_collection')"
     ], 
     "language": "python", 
     "outputs": [], 
     "prompt_number": 2
    }, 
    {
     "cell_type": "code", 
     "collapsed": true, 
     "input": [
      "import qbp # quantitative behavioral primitives, which has some helpers for calculating mouse contour thingies", 
      "from blobgenerator import pngGenerator", 
      "import datetime", 
      "framePeriod = 1./24", 
      "frames = []", 
      "", 
      "# Experiment metadata", 
      "# Example experiment name: 10-24-2011-001-blank-all_images", 
      "month, day, year, this_mouse_id, this_odor, odor_location = filename.split(\"-\")", 
      "this_date = datetime.datetime(int(year), int(month), int(day), 12) # default is 12pm", 
      "this_mouse_id = int(this_mouse_id)", 
      "", 
      "# Convert a plain-English description of the odor location into a rectangle in the format (upperleft_y, upperleft_x, lowerright_y, lowerright_x)", 
      "imgshape = imgs[0].shape", 
      "if odor_location == \"all\":", 
      "    this_odor_rectangle = [0,0,imgshape[0], imgshape[1]]", 
      "if odor_location == \"upperright\":", 
      "    this_odor_rectangle = [0, imgshape[1]/2.0, imgshape[0]/2.0, imgshape[1]]", 
      "if odor_location == \"upperleft\":", 
      "    this_odor_rectangle = [0,0,imgshape[0]/2.0, imgshape[1]/2.0]", 
      "if odor_location == \"lowerright\":", 
      "    this_odor_rectangle = [imgshape[0]/2.0, imgshape[1]/2.0, imgshape[0], imgshape[1]]", 
      "if odor_location == \"lowerleft\":", 
      "    this_odor_rectangle = [imgshape[0]/2.0, 0, imgshape[0], imgshape[1]/2.0]", 
      "", 
      "positions = np.asarray( [qbp.calcPosition(fit) for fit in fits] )", 
      "velocity_magnitudes, velocity_angles = qbp.calcVelocity(positions, frame_ids, return_angle=True) # NOTE: frame_ids should change when we get real-life timestamps", 
      "angles = np.asarray( [e[0][2] for e in ellipses] )", 
      "dAngles = np.r_[np.diff(angles), 0]"
     ], 
     "language": "python", 
     "outputs": [], 
     "prompt_number": 3
    }, 
    {
     "cell_type": "code", 
     "collapsed": true, 
     "input": [
      "frames = []", 
      "for i in range(len(fits)): # could have been range(len(ellipses)) or range(len(imgs)), doesn't matter.", 
      "", 
      "    # First, we've got to calculate some shtuff about the mouse that we'll want to store.", 
      "    # We should go ahead and do it ahead of time, for neatness' sake.", 
      "    this_fit = fits[i]", 
      "    this_img = imgs[i]", 
      "    this_area = qbp.calcArea(this_fit)", 
      "    this_perimeter = qbp.calcPerimeter(this_fit)", 
      "    this_mean_height = this_img[np.nonzero(this_img)].mean()", 
      "    this_max_height  = this_img.max()", 
      "", 
      "    \"\"\"", 
      "    tail_position = qbp.calcTailPosition(this_fit)", 
      "    tail_y, tail_x = tail_position", 
      "    head_position = qbp.calcHeadPosition(this_fit)", 
      "    head_y, head_x = head_position", 
      "    \"\"\"   ", 
      "", 
      "    thisFrame = dd() # dot dictionary, so we can do a_frame.position.x instead of a_frame['position']['x'], which is hard for me to type.", 
      "    ", 
      "    # The frame_id (sometimes we skip frames if we can't track them, so it's important to know where in the video we are)", 
      "    thisFrame.frame_id = frame_ids[i]", 
      "    ", 
      "    # Position and movement", 
      "    thisFrame.position = dd()", 
      "    thisFrame.position.x = ellipses[i][0][0][0]", 
      "    thisFrame.position.y = ellipses[i][0][0][1]", 
      "    thisFrame.position.angle = ellipses[i][0][2]", 
      "    thisFrame.velocity = dd()", 
      "    thisFrame.velocity.angle = velocity_angles[i]", 
      "    thisFrame.velocity.magnitude = velocity_magnitudes[i]", 
      "    thisFrame.velocity.diffAngle = dAngles[i]", 
      "    ", 
      "    thisFrame.ellipse = dd()", 
      "    thisFrame.ellipse.minor_axis = ellipses[i][0][1][1]", 
      "    thisFrame.ellipse.major_axis = ellipses[i][0][1][0]", 
      "", 
      "    # Raw image data", 
      "    thisFrame.img = imgs[i]", 
      "    thisFrame.diffimg = diffimgs[i]", 
      "    \"\"\"", 
      "    thisFrame.full_img = this_full_img", 
      "    thisFrame.full_diff_img = this_full_diff_img", 
      "    \"\"\"", 
      "    ", 
      "    # Metadata", 
      "    thisFrame.date = this_date + datetime.timedelta(seconds=frame_ids[i]*framePeriod)", 
      "    thisFrame.odor = this_odor", 
      "    thisFrame.odor_quadrant = this_odor_rectangle", 
      "    thisFrame.mouse_id = this_mouse_id", 
      "    ", 
      "    # Anatomy", 
      "    thisFrame.contour = fits[i] # 2 x numPointsInFit", 
      "    thisFrame.area = this_area", 
      "    thisFrame.perimeter = this_perimeter", 
      "    thisFrame.max_height = this_max_height", 
      "    thisFrame.mean_height = this_mean_height", 
      "", 
      "    \"\"\"    ", 
      "    thisFrame.head = dd()", 
      "    thisFrame.head.x = head_x", 
      "    thisFrame.head.y = head_y", 
      "    thisFrame.tail = dd()", 
      "    thisFrame.tail.x = tail_x", 
      "    thisFrame.tail.y = tail_y", 
      "    thisFrame.spine = spline_ndarray # 2 x numPointsInSpine", 
      "", 
      "    \"\"\"", 
      "", 
      "    frames.append( thisFrame )"
     ], 
     "language": "python", 
     "outputs": [], 
     "prompt_number": 4
    }, 
    {
     "cell_type": "code", 
     "collapsed": true, 
     "input": [
      "from time import time", 
      "now = time()", 
      "q = db.load({\"max_height\" : {\"$gt\":60} })", 
      "print time() - now"
     ], 
     "language": "python", 
     "outputs": [], 
     "prompt_number": "*"
    }, 
    {
     "cell_type": "code", 
     "collapsed": false, 
     "input": [], 
     "language": "python", 
     "outputs": [
      {
       "output_type": "pyout", 
       "prompt_number": 53, 
       "text": [
        "&lt;method &apos;time&apos; of &apos;datetime.datetime&apos; objects&gt;"
       ]
      }
     ], 
     "prompt_number": 53
    }
   ]
  }
 ]
}